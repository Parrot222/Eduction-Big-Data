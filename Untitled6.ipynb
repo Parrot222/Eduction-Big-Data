{
 "cells": [
  {
   "cell_type": "code",
   "execution_count": 12,
   "id": "3fdab4dc",
   "metadata": {},
   "outputs": [],
   "source": [
    "import nltk\n",
    "import os\n",
    "import re\n",
    "from nltk.corpus import PlaintextCorpusReader\n",
    "from nltk.corpus import stopwords\n",
    "from nltk.stem.porter import *\n",
    "\n",
    "file_directory = 'data/SGNews_Apr2012'\n",
    "\n",
    "filename_patern = '.+\\.txt'\n",
    "mycorpus = PlaintextCorpusReader(file_directory, filename_patern)\n",
    "stop_list = stopwords.words('english')"
   ]
  },
  {
   "cell_type": "code",
   "execution_count": 13,
   "id": "a218e136",
   "metadata": {},
   "outputs": [
    {
     "name": "stdout",
     "output_type": "stream",
     "text": [
      "['14011.txt', '14012.txt', '14013.txt', '14014.txt', '14023.txt', '14075.txt', '14080.txt', '14093.txt', '14110.txt', '14120.txt']\n"
     ]
    }
   ],
   "source": [
    "print(mycorpus.fileids()[0:10])"
   ]
  },
  {
   "cell_type": "code",
   "execution_count": 15,
   "id": "055f7689",
   "metadata": {
    "scrolled": true
   },
   "outputs": [],
   "source": [
    "for i in range(14011, 16243):\n",
    "    filename = str(i) + '.txt'\n",
    "    if os.path.islink(filename):\n",
    "        file = mycorpus.words(filename)\n",
    "        file_lower = [w.lower() for w in file]\n",
    "        file_words_only = [w.lower() for w in file_lower if re.search('^[a-z]+$', w)] \n",
    "        file_stopremoved = [w for w in file_words_only if w not in stop_list]\n",
    "        stemmer = PorterStemmer()\n",
    "        file_stemmed = [stemmer.stem(w) for w in file_stopremoved]"
   ]
  },
  {
   "cell_type": "code",
   "execution_count": 16,
   "id": "b879ff9b",
   "metadata": {},
   "outputs": [
    {
     "name": "stdout",
     "output_type": "stream",
     "text": [
      "['htmlid', 'titl', 'big', 'time', 'littl']\n"
     ]
    }
   ],
   "source": [
    "print(file_stemmed[0:5])"
   ]
  },
  {
   "cell_type": "code",
   "execution_count": null,
   "id": "9127a195",
   "metadata": {},
   "outputs": [],
   "source": []
  }
 ],
 "metadata": {
  "kernelspec": {
   "display_name": "Python 3",
   "language": "python",
   "name": "python3"
  },
  "language_info": {
   "codemirror_mode": {
    "name": "ipython",
    "version": 3
   },
   "file_extension": ".py",
   "mimetype": "text/x-python",
   "name": "python",
   "nbconvert_exporter": "python",
   "pygments_lexer": "ipython3",
   "version": "3.8.8"
  }
 },
 "nbformat": 4,
 "nbformat_minor": 5
}
